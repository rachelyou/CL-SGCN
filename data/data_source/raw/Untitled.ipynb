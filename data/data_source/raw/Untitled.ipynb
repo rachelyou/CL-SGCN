{
 "cells": [
  {
   "cell_type": "code",
   "execution_count": 5,
   "id": "mobile-capacity",
   "metadata": {},
   "outputs": [],
   "source": [
    "import numpy as np\n",
    "feats=np.loadtxt('data_1025_307_feat.txt',delimiter=',')"
   ]
  },
  {
   "cell_type": "code",
   "execution_count": 7,
   "id": "lovely-gothic",
   "metadata": {},
   "outputs": [
    {
     "data": {
      "text/plain": [
       "array([2.000e-04, 4.000e-04, 2.000e-04, 2.000e-04, 5.360e-02, 0.000e+00,\n",
       "       2.680e-01, 1.200e-03, 6.200e-03, 4.500e-02, 9.600e-03, 2.000e-04,\n",
       "       9.750e-01, 0.000e+00, 2.000e-04, 1.000e-03, 2.000e-04, 2.000e-04,\n",
       "       0.000e+00, 2.000e-04, 1.102e-01, 8.000e-04, 4.000e-04, 4.000e-04,\n",
       "       1.000e+00, 2.000e-04, 4.000e-04, 2.000e-04, 1.000e-03, 1.200e-03,\n",
       "       8.000e-04, 0.000e+00, 0.000e+00, 2.000e-04, 2.000e-04, 2.000e-04,\n",
       "       2.000e-04, 2.000e-04, 2.000e-04, 2.000e-04, 0.000e+00, 2.000e-04,\n",
       "       2.000e-04, 2.000e-04, 2.000e-04, 4.000e-04, 0.000e+00, 2.000e-04,\n",
       "       0.000e+00, 2.000e-04, 2.000e-04, 2.000e-04, 2.000e-04, 0.000e+00,\n",
       "       0.000e+00, 4.000e-03, 2.000e-04, 2.000e-04, 2.000e-04, 2.000e-04,\n",
       "       0.000e+00, 2.000e-04, 2.000e-04, 2.000e-04, 2.000e-04, 2.000e-04,\n",
       "       0.000e+00, 0.000e+00, 2.000e-04, 2.000e-04])"
      ]
     },
     "execution_count": 7,
     "metadata": {},
     "output_type": "execute_result"
    }
   ],
   "source": [
    "feats[1]"
   ]
  },
  {
   "cell_type": "code",
   "execution_count": 3,
   "id": "dense-massage",
   "metadata": {},
   "outputs": [],
   "source": [
    "np.savetxt('data_1025_307_feat.txt',feat,fmt='%d',delimiter=',')"
   ]
  },
  {
   "cell_type": "code",
   "execution_count": 8,
   "id": "ruled-skiing",
   "metadata": {},
   "outputs": [
    {
     "data": {
      "text/plain": [
       "array([1.000e+00, 2.000e+00, 1.000e+00, 1.000e+00, 2.680e+02, 0.000e+00,\n",
       "       1.340e+03, 6.000e+00, 3.100e+01, 2.250e+02, 4.800e+01, 1.000e+00,\n",
       "       4.875e+03, 0.000e+00, 1.000e+00, 5.000e+00, 1.000e+00, 1.000e+00,\n",
       "       0.000e+00, 1.000e+00, 5.510e+02, 4.000e+00, 2.000e+00, 2.000e+00,\n",
       "       5.000e+03, 1.000e+00, 2.000e+00, 1.000e+00, 5.000e+00, 6.000e+00,\n",
       "       4.000e+00, 0.000e+00, 0.000e+00, 1.000e+00, 1.000e+00, 1.000e+00,\n",
       "       1.000e+00, 1.000e+00, 1.000e+00, 1.000e+00, 0.000e+00, 1.000e+00,\n",
       "       1.000e+00, 1.000e+00, 1.000e+00, 2.000e+00, 0.000e+00, 1.000e+00,\n",
       "       0.000e+00, 1.000e+00, 1.000e+00, 1.000e+00, 1.000e+00, 0.000e+00,\n",
       "       0.000e+00, 2.000e+01, 1.000e+00, 1.000e+00, 1.000e+00, 1.000e+00,\n",
       "       0.000e+00, 1.000e+00, 1.000e+00, 1.000e+00, 1.000e+00, 1.000e+00,\n",
       "       0.000e+00, 0.000e+00, 1.000e+00, 1.000e+00])"
      ]
     },
     "execution_count": 8,
     "metadata": {},
     "output_type": "execute_result"
    }
   ],
   "source": [
    "feats[1]/5000"
   ]
  },
  {
   "cell_type": "code",
   "execution_count": 2,
   "id": "divided-advance",
   "metadata": {},
   "outputs": [],
   "source": [
    "feat=feats/5000"
   ]
  },
  {
   "cell_type": "code",
   "execution_count": 3,
   "id": "infrared-destiny",
   "metadata": {},
   "outputs": [
    {
     "data": {
      "text/plain": [
       "array([2.000e-04, 4.000e-04, 2.000e-04, 2.000e-04, 5.360e-02, 0.000e+00,\n",
       "       2.680e-01, 1.200e-03, 6.200e-03, 4.500e-02, 9.600e-03, 2.000e-04,\n",
       "       9.750e-01, 0.000e+00, 2.000e-04, 1.000e-03, 2.000e-04, 2.000e-04,\n",
       "       0.000e+00, 2.000e-04, 1.102e-01, 8.000e-04, 4.000e-04, 4.000e-04,\n",
       "       1.000e+00, 2.000e-04, 4.000e-04, 2.000e-04, 1.000e-03, 1.200e-03,\n",
       "       8.000e-04, 0.000e+00, 0.000e+00, 2.000e-04, 2.000e-04, 2.000e-04,\n",
       "       2.000e-04, 2.000e-04, 2.000e-04, 2.000e-04, 0.000e+00, 2.000e-04,\n",
       "       2.000e-04, 2.000e-04, 2.000e-04, 4.000e-04, 0.000e+00, 2.000e-04,\n",
       "       0.000e+00, 2.000e-04, 2.000e-04, 2.000e-04, 2.000e-04, 0.000e+00,\n",
       "       0.000e+00, 4.000e-03, 2.000e-04, 2.000e-04, 2.000e-04, 2.000e-04,\n",
       "       0.000e+00, 2.000e-04, 2.000e-04, 2.000e-04, 2.000e-04, 2.000e-04,\n",
       "       0.000e+00, 0.000e+00, 2.000e-04, 2.000e-04])"
      ]
     },
     "execution_count": 3,
     "metadata": {},
     "output_type": "execute_result"
    }
   ],
   "source": [
    "feat[1]"
   ]
  },
  {
   "cell_type": "code",
   "execution_count": 4,
   "id": "fourth-sweden",
   "metadata": {},
   "outputs": [],
   "source": [
    "np.savetxt('data_1025_307_feat.txt',feat,delimiter=',')"
   ]
  },
  {
   "cell_type": "code",
   "execution_count": null,
   "id": "settled-airfare",
   "metadata": {},
   "outputs": [],
   "source": []
  }
 ],
 "metadata": {
  "kernelspec": {
   "display_name": "Python 3",
   "language": "python",
   "name": "python3"
  },
  "language_info": {
   "codemirror_mode": {
    "name": "ipython",
    "version": 3
   },
   "file_extension": ".py",
   "mimetype": "text/x-python",
   "name": "python",
   "nbconvert_exporter": "python",
   "pygments_lexer": "ipython3",
   "version": "3.6.13"
  }
 },
 "nbformat": 4,
 "nbformat_minor": 5
}
