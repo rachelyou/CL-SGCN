{
 "cells": [
  {
   "cell_type": "code",
   "execution_count": 1,
   "id": "ignored-kitty",
   "metadata": {},
   "outputs": [
    {
     "data": {
      "text/plain": [
       "array([[33.,  1.,  1., ...,  1.,  1.,  1.],\n",
       "       [52.,  1.,  1., ...,  1.,  1.,  1.],\n",
       "       [ 5.,  1.,  3., ...,  1.,  1.,  1.],\n",
       "       ...,\n",
       "       [ 0.,  0.,  0., ...,  0.,  0.,  0.],\n",
       "       [ 0.,  0.,  0., ...,  0.,  0.,  0.],\n",
       "       [ 0.,  0.,  0., ...,  0.,  0.,  0.]])"
      ]
     },
     "execution_count": 1,
     "metadata": {},
     "output_type": "execute_result"
    }
   ],
   "source": [
    "import numpy as np\n",
    "feats=np.loadtxt('data_307_1006ec_feat.txt')\n",
    "feats"
   ]
  },
  {
   "cell_type": "code",
   "execution_count": 2,
   "id": "legal-subscription",
   "metadata": {},
   "outputs": [
    {
     "data": {
      "text/plain": [
       "array([[0.0066, 0.0002, 0.0002, ..., 0.0002, 0.0002, 0.0002],\n",
       "       [0.0104, 0.0002, 0.0002, ..., 0.0002, 0.0002, 0.0002],\n",
       "       [0.001 , 0.0002, 0.0006, ..., 0.0002, 0.0002, 0.0002],\n",
       "       ...,\n",
       "       [0.    , 0.    , 0.    , ..., 0.    , 0.    , 0.    ],\n",
       "       [0.    , 0.    , 0.    , ..., 0.    , 0.    , 0.    ],\n",
       "       [0.    , 0.    , 0.    , ..., 0.    , 0.    , 0.    ]])"
      ]
     },
     "execution_count": 2,
     "metadata": {},
     "output_type": "execute_result"
    }
   ],
   "source": [
    "feat=feats/5000\n",
    "feat"
   ]
  },
  {
   "cell_type": "code",
   "execution_count": 3,
   "id": "conventional-grass",
   "metadata": {},
   "outputs": [],
   "source": [
    "np.savetxt('data_1006_307_feat.txt',feat,delimiter=',')"
   ]
  },
  {
   "cell_type": "code",
   "execution_count": 4,
   "id": "medieval-window",
   "metadata": {},
   "outputs": [
    {
     "data": {
      "text/plain": [
       "array([[0.0066, 0.0002, 0.0002, ..., 0.0002, 0.0002, 0.0002],\n",
       "       [0.0104, 0.0002, 0.0002, ..., 0.0002, 0.0002, 0.0002],\n",
       "       [0.001 , 0.0002, 0.0006, ..., 0.0002, 0.0002, 0.0002],\n",
       "       ...,\n",
       "       [0.    , 0.    , 0.    , ..., 0.    , 0.    , 0.    ],\n",
       "       [0.    , 0.    , 0.    , ..., 0.    , 0.    , 0.    ],\n",
       "       [0.    , 0.    , 0.    , ..., 0.    , 0.    , 0.    ]])"
      ]
     },
     "execution_count": 4,
     "metadata": {},
     "output_type": "execute_result"
    }
   ],
   "source": [
    "feats=np.loadtxt('data_1006_307_feat.txt',delimiter=',')\n",
    "feats"
   ]
  },
  {
   "cell_type": "code",
   "execution_count": 6,
   "id": "smaller-clock",
   "metadata": {},
   "outputs": [
    {
     "data": {
      "text/plain": [
       "array([[ 92., 102.,  26.],\n",
       "       [ 93., 102.,  26.],\n",
       "       [ 92., 103.,  26.],\n",
       "       ...,\n",
       "       [ 94., 103.,  42.],\n",
       "       [ 94., 104.,  42.],\n",
       "       [ 94., 102.,  43.]])"
      ]
     },
     "execution_count": 6,
     "metadata": {},
     "output_type": "execute_result"
    }
   ],
   "source": [
    "cor=np.loadtxt('data_307_1006_3cor.txt')\n",
    "cor"
   ]
  },
  {
   "cell_type": "code",
   "execution_count": 7,
   "id": "hybrid-ministry",
   "metadata": {},
   "outputs": [],
   "source": [
    "np.savetxt('data_1006_307_3cor.txt',cor,fmt='%d',delimiter=',')"
   ]
  },
  {
   "cell_type": "code",
   "execution_count": 3,
   "id": "alike-collectible",
   "metadata": {},
   "outputs": [],
   "source": [
    "import torch.nn.functional as F\n",
    "import numpy as np"
   ]
  },
  {
   "cell_type": "code",
   "execution_count": 4,
   "id": "employed-gauge",
   "metadata": {},
   "outputs": [],
   "source": [
    "labels=np.loadtxt('data_1006_307_labels.txt')"
   ]
  },
  {
   "cell_type": "code",
   "execution_count": 5,
   "id": "advance-villa",
   "metadata": {},
   "outputs": [
    {
     "data": {
      "text/plain": [
       "array([0., 0., 0., ..., 1., 0., 0.])"
      ]
     },
     "execution_count": 5,
     "metadata": {},
     "output_type": "execute_result"
    }
   ],
   "source": [
    "labels"
   ]
  },
  {
   "cell_type": "code",
   "execution_count": 7,
   "id": "ready-investment",
   "metadata": {},
   "outputs": [
    {
     "ename": "AttributeError",
     "evalue": "module 'numpy' has no attribute 'one_hot'",
     "output_type": "error",
     "traceback": [
      "\u001b[0;31m---------------------------------------------------------------------------\u001b[0m",
      "\u001b[0;31mAttributeError\u001b[0m                            Traceback (most recent call last)",
      "\u001b[0;32m<ipython-input-7-511ac7e9c4bc>\u001b[0m in \u001b[0;36m<module>\u001b[0;34m\u001b[0m\n\u001b[0;32m----> 1\u001b[0;31m \u001b[0mf1\u001b[0m\u001b[0;34m=\u001b[0m\u001b[0mnp\u001b[0m\u001b[0;34m.\u001b[0m\u001b[0mone_hot\u001b[0m\u001b[0;34m(\u001b[0m\u001b[0mlabels\u001b[0m\u001b[0;34m,\u001b[0m\u001b[0;36m2\u001b[0m\u001b[0;34m)\u001b[0m\u001b[0;34m\u001b[0m\u001b[0;34m\u001b[0m\u001b[0m\n\u001b[0m",
      "\u001b[0;31mAttributeError\u001b[0m: module 'numpy' has no attribute 'one_hot'"
     ]
    }
   ],
   "source": [
    "f1=np.one_hot(labels,2)"
   ]
  },
  {
   "cell_type": "code",
   "execution_count": null,
   "id": "southern-colonial",
   "metadata": {},
   "outputs": [],
   "source": []
  }
 ],
 "metadata": {
  "kernelspec": {
   "display_name": "Python 3",
   "language": "python",
   "name": "python3"
  },
  "language_info": {
   "codemirror_mode": {
    "name": "ipython",
    "version": 3
   },
   "file_extension": ".py",
   "mimetype": "text/x-python",
   "name": "python",
   "nbconvert_exporter": "python",
   "pygments_lexer": "ipython3",
   "version": "3.6.13"
  }
 },
 "nbformat": 4,
 "nbformat_minor": 5
}
